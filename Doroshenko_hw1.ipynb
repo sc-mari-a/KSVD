{
  "nbformat": 4,
  "nbformat_minor": 0,
  "metadata": {
    "colab": {
      "provenance": [],
      "authorship_tag": "ABX9TyO63DfwiSuilfsIV6C8LGGb",
      "include_colab_link": true
    },
    "kernelspec": {
      "name": "python3",
      "display_name": "Python 3"
    },
    "language_info": {
      "name": "python"
    }
  },
  "cells": [
    {
      "cell_type": "markdown",
      "metadata": {
        "id": "view-in-github",
        "colab_type": "text"
      },
      "source": [
        "<a href=\"https://colab.research.google.com/github/sc-mari-a/KSVD/blob/main/Doroshenko_hw1.ipynb\" target=\"_parent\"><img src=\"https://colab.research.google.com/assets/colab-badge.svg\" alt=\"Open In Colab\"/></a>"
      ]
    },
    {
      "cell_type": "markdown",
      "source": [
        "# Лабораторна робота 1. Аналіз даних\n",
        "  [Посилання на GitHub](https://github.com/sc-mari-a/KSVD)"
      ],
      "metadata": {
        "id": "xNi3CC9vt0B-"
      }
    },
    {
      "cell_type": "markdown",
      "source": [
        "1) Створіть одновимірний масив (вектор) з першими 20-ма натуральними числами та виведіть його значення."
      ],
      "metadata": {
        "id": "8ats1sK9tpUr"
      }
    },
    {
      "cell_type": "code",
      "source": [
        "import numpy as np\n",
        "vec = np.arange(1, 21)\n",
        "vec"
      ],
      "metadata": {
        "colab": {
          "base_uri": "https://localhost:8080/"
        },
        "id": "SsaIeCcauMFm",
        "outputId": "10eacd32-db6a-49a8-8adb-13961006d377"
      },
      "execution_count": 1,
      "outputs": [
        {
          "output_type": "execute_result",
          "data": {
            "text/plain": [
              "array([ 1,  2,  3,  4,  5,  6,  7,  8,  9, 10, 11, 12, 13, 14, 15, 16, 17,\n",
              "       18, 19, 20])"
            ]
          },
          "metadata": {},
          "execution_count": 1
        }
      ]
    },
    {
      "cell_type": "markdown",
      "source": [
        "2) Створіть двовимірний масив (матрицю) розміром 4x4, заповніть його одиницями та виведіть його значення."
      ],
      "metadata": {
        "id": "e0V0K56lty14"
      }
    },
    {
      "cell_type": "code",
      "source": [
        "matrix = np.ones((4, 4), dtype=int)\n",
        "matrix"
      ],
      "metadata": {
        "colab": {
          "base_uri": "https://localhost:8080/"
        },
        "id": "mbSFogGYvPev",
        "outputId": "4cf02b19-7252-43a1-ba90-f3ab8bbc9cae"
      },
      "execution_count": 2,
      "outputs": [
        {
          "output_type": "execute_result",
          "data": {
            "text/plain": [
              "array([[1, 1, 1, 1],\n",
              "       [1, 1, 1, 1],\n",
              "       [1, 1, 1, 1],\n",
              "       [1, 1, 1, 1]])"
            ]
          },
          "metadata": {},
          "execution_count": 2
        }
      ]
    },
    {
      "cell_type": "markdown",
      "source": [
        "3) Створіть масив розміром 5x5, заповніть його випадковими дійсними числами в діапазоні від -1 до 1 та виведіть його значення."
      ],
      "metadata": {
        "id": "oZ_hzFJAvI7K"
      }
    },
    {
      "cell_type": "code",
      "source": [
        "np.random.uniform(-1, 1, size=(5,5))"
      ],
      "metadata": {
        "colab": {
          "base_uri": "https://localhost:8080/"
        },
        "id": "d-U9CUvVvlTm",
        "outputId": "10503e69-a127-4b9f-9027-628e85fc0737"
      },
      "execution_count": 3,
      "outputs": [
        {
          "output_type": "execute_result",
          "data": {
            "text/plain": [
              "array([[-0.9529336 , -0.12892308, -0.78371031, -0.28269137,  0.28211933],\n",
              "       [ 0.80016462,  0.31285142, -0.26058265, -0.49042758,  0.65921852],\n",
              "       [-0.98474766,  0.69346303,  0.78761515, -0.46211003,  0.25159101],\n",
              "       [ 0.33426986,  0.09987743,  0.73544497,  0.50255487,  0.8779605 ],\n",
              "       [-0.08023418,  0.41221063,  0.85929532, -0.42179624, -0.3677197 ]])"
            ]
          },
          "metadata": {},
          "execution_count": 3
        }
      ]
    },
    {
      "cell_type": "markdown",
      "source": [
        "4) Створіть масив розміром 3x3, заповніть його випадковими дійсними числами в діапазоні від 0 до 1 та виведіть його значення."
      ],
      "metadata": {
        "id": "kzJzdsUGvlnk"
      }
    },
    {
      "cell_type": "code",
      "source": [
        "np.random.uniform(0, 1, size=(3,3))"
      ],
      "metadata": {
        "colab": {
          "base_uri": "https://localhost:8080/"
        },
        "id": "lZiS9V_0vzRM",
        "outputId": "8cf3f0e5-ad46-4b11-e6b9-2bdbcda5b336"
      },
      "execution_count": 4,
      "outputs": [
        {
          "output_type": "execute_result",
          "data": {
            "text/plain": [
              "array([[0.51707863, 0.78949956, 0.95144217],\n",
              "       [0.55429241, 0.0308517 , 0.97312832],\n",
              "       [0.06546446, 0.07823602, 0.83351862]])"
            ]
          },
          "metadata": {},
          "execution_count": 4
        }
      ]
    },
    {
      "cell_type": "markdown",
      "source": [
        "5) Створіть два одновимірних масиви розміром 6, заповніть їх випадковими цілими числами в діапазоні від 1 до 20 та виконайте на них поелементні операції додавання, віднімання та множення."
      ],
      "metadata": {
        "id": "78ffPX3Vvzzo"
      }
    },
    {
      "cell_type": "code",
      "source": [
        "a = np.random.randint(1, 21, size=(1,6))\n",
        "b = np.random.randint(1, 21, size=(1,6))\n",
        "\n",
        "print(f\"a = {a} \\nb = {b}\\n\")\n",
        "print(f\"a + b = {a+b}\")\n",
        "print(f\"a - b = {a-b}\")\n",
        "print(f\"a * b = {a*b}\")"
      ],
      "metadata": {
        "colab": {
          "base_uri": "https://localhost:8080/"
        },
        "id": "HNoTCQxkwnFX",
        "outputId": "a0ae4bce-a2ca-441c-84d8-b79e55466bb1"
      },
      "execution_count": 16,
      "outputs": [
        {
          "output_type": "stream",
          "name": "stdout",
          "text": [
            "a = [[13  8  9 18  9 18]] \n",
            "b = [[2 4 9 5 9 6]]\n",
            "\n",
            "a + b = [[15 12 18 23 18 24]]\n",
            "a - b = [[11  4  0 13  0 12]]\n",
            "a * b = [[ 26  32  81  90  81 108]]\n"
          ]
        }
      ]
    },
    {
      "cell_type": "markdown",
      "source": [
        "6) Створіть дві матриці розміром 3x2 та 2x4, заповніть їх випадковими цілими числами в діапазоні від 1 до 5 та перемножте їх між собою."
      ],
      "metadata": {
        "id": "FfGiAGDownRk"
      }
    },
    {
      "cell_type": "code",
      "source": [
        "a = np.random.randint(1, 6, size=(3,2))\n",
        "b = np.random.randint(1, 6, size=(2,4))\n",
        "\n",
        "print(f\"{a}\\n\\n{b}\\n\")\n",
        "\n",
        "print(f\"a * b = \\n{np.dot(a, b)}\")"
      ],
      "metadata": {
        "colab": {
          "base_uri": "https://localhost:8080/"
        },
        "id": "39joAKNRxDNX",
        "outputId": "c59e120d-08a3-4037-f304-553c04b183b9"
      },
      "execution_count": 39,
      "outputs": [
        {
          "output_type": "stream",
          "name": "stdout",
          "text": [
            "[[5 1]\n",
            " [5 5]\n",
            " [3 3]]\n",
            "\n",
            "[[1 5 2 3]\n",
            " [1 5 4 1]]\n",
            "\n",
            "a * b = \n",
            "[[ 6 30 14 16]\n",
            " [10 50 30 20]\n",
            " [ 6 30 18 12]]\n"
          ]
        }
      ]
    },
    {
      "cell_type": "markdown",
      "source": [
        "7) Створіть матрицю розміром 3x3, заповніть її випадковими дійсними числами в діапазоні від 0 до 1 та транспонуйте її."
      ],
      "metadata": {
        "id": "Erho8zVexDX5"
      }
    },
    {
      "cell_type": "code",
      "source": [
        "m = np.random.uniform(0, 1, size=(3,3))\n",
        "print(m)\n",
        "print()\n",
        "print(m.T) #або m.transpose()"
      ],
      "metadata": {
        "colab": {
          "base_uri": "https://localhost:8080/"
        },
        "id": "Cq3hQYyGxMav",
        "outputId": "57ced526-01ba-4acd-dd4f-37267812bc8f"
      },
      "execution_count": 19,
      "outputs": [
        {
          "output_type": "stream",
          "name": "stdout",
          "text": [
            "[[0.77511991 0.46278793 0.18770471]\n",
            " [0.57362064 0.60702967 0.4465959 ]\n",
            " [0.39937028 0.61109035 0.39349623]]\n",
            "\n",
            "[[0.77511991 0.57362064 0.39937028]\n",
            " [0.46278793 0.60702967 0.61109035]\n",
            " [0.18770471 0.4465959  0.39349623]]\n"
          ]
        }
      ]
    },
    {
      "cell_type": "markdown",
      "source": [
        "8) Створіть дві матриці розміром 3x3, заповніть їх випадковими цілими числами в діапазоні від 1 до 10 та знайдіть їхню різницю."
      ],
      "metadata": {
        "id": "Yo35zHU0xMkb"
      }
    },
    {
      "cell_type": "code",
      "source": [
        "a = np.random.randint(1, 11, size=(3,3))\n",
        "b = np.random.randint(1, 11, size=(3,3))\n",
        "a-b"
      ],
      "metadata": {
        "colab": {
          "base_uri": "https://localhost:8080/"
        },
        "id": "nROKYOtSxZvh",
        "outputId": "2b421c91-c3f6-4086-9d1d-060dfee2e7e6"
      },
      "execution_count": 40,
      "outputs": [
        {
          "output_type": "execute_result",
          "data": {
            "text/plain": [
              "array([[ 4, -3,  1],\n",
              "       [-1, -4, -7],\n",
              "       [ 3, -1, -8]])"
            ]
          },
          "metadata": {},
          "execution_count": 40
        }
      ]
    },
    {
      "cell_type": "markdown",
      "source": [
        "9) Створіть дві матриці розміром 3x3, заповніть їх випадковими цілими числами в діапазоні від -5 до 5 та знайдіть їх добуток."
      ],
      "metadata": {
        "id": "kEs7IUIOxZ-C"
      }
    },
    {
      "cell_type": "code",
      "source": [
        "a = np.random.randint(-5, 5, size=(3,3))\n",
        "b = np.random.randint(-5, 5, size=(3,3))\n",
        "print(a)\n",
        "print()\n",
        "print(b)\n",
        "np.dot(a, b)"
      ],
      "metadata": {
        "colab": {
          "base_uri": "https://localhost:8080/"
        },
        "id": "pnUj6Svmxciq",
        "outputId": "954d131c-0f96-4dc2-9aff-38ddaec95f6f"
      },
      "execution_count": 44,
      "outputs": [
        {
          "output_type": "stream",
          "name": "stdout",
          "text": [
            "[[ 4  1 -2]\n",
            " [ 4 -4  1]\n",
            " [ 1 -4 -5]]\n",
            "\n",
            "[[ 1  3  3]\n",
            " [ 0  0  4]\n",
            " [ 3 -4  3]]\n"
          ]
        },
        {
          "output_type": "execute_result",
          "data": {
            "text/plain": [
              "array([[ -2,  20,  10],\n",
              "       [  7,   8,  -1],\n",
              "       [-14,  23, -28]])"
            ]
          },
          "metadata": {},
          "execution_count": 44
        }
      ]
    },
    {
      "cell_type": "markdown",
      "source": [
        "10) Створіть матрицю розміром 3x3, заповніть її випадковими дійсними числами в діапазоні від -1 до 1 та знайдіть вектор-стовпчик, що містить суму елементів кожного рядка матриці."
      ],
      "metadata": {
        "id": "-_HxDET3xcrx"
      }
    },
    {
      "cell_type": "code",
      "source": [
        "m = np.random.uniform(-1, 1, size=(3,3))\n",
        "print(m)\n",
        "print()\n",
        "m.sum(axis=0).reshape(3, 1)     # axis=1 - вказуємо, щоб сумувалось по рядках (якщо не вказати, то sum сумує всі елем.), reshape - змінюємо розмір вектора"
      ],
      "metadata": {
        "colab": {
          "base_uri": "https://localhost:8080/"
        },
        "id": "lzmztVK0xjOF",
        "outputId": "44ab2037-858b-4a8e-9c01-a394bf609449"
      },
      "execution_count": 50,
      "outputs": [
        {
          "output_type": "stream",
          "name": "stdout",
          "text": [
            "[[ 0.26030775  0.38689567  0.94009603]\n",
            " [ 0.66658603  0.20738672 -0.97886641]\n",
            " [-0.72567     0.5789143   0.0385561 ]]\n",
            "\n"
          ]
        },
        {
          "output_type": "execute_result",
          "data": {
            "text/plain": [
              "array([[ 2.01223782e-01],\n",
              "       [ 1.17319669e+00],\n",
              "       [-2.14287739e-04]])"
            ]
          },
          "metadata": {},
          "execution_count": 50
        }
      ]
    }
  ]
}