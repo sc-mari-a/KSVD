{
  "nbformat": 4,
  "nbformat_minor": 0,
  "metadata": {
    "colab": {
      "provenance": [],
      "authorship_tag": "ABX9TyNPhbMqHtiRrY+Oua1FTIxX",
      "include_colab_link": true
    },
    "kernelspec": {
      "name": "python3",
      "display_name": "Python 3"
    },
    "language_info": {
      "name": "python"
    }
  },
  "cells": [
    {
      "cell_type": "markdown",
      "metadata": {
        "id": "view-in-github",
        "colab_type": "text"
      },
      "source": [
        "<a href=\"https://colab.research.google.com/github/sc-mari-a/KSVD/blob/main/Doroshenko_hw1.ipynb\" target=\"_parent\"><img src=\"https://colab.research.google.com/assets/colab-badge.svg\" alt=\"Open In Colab\"/></a>"
      ]
    },
    {
      "cell_type": "markdown",
      "source": [
        "# Лабораторна робота 1. Аналіз даних"
      ],
      "metadata": {
        "id": "xNi3CC9vt0B-"
      }
    },
    {
      "cell_type": "markdown",
      "source": [
        "1) Створіть одновимірний масив (вектор) з першими 20-ма натуральними числами та виведіть його значення."
      ],
      "metadata": {
        "id": "8ats1sK9tpUr"
      }
    },
    {
      "cell_type": "code",
      "source": [],
      "metadata": {
        "id": "SsaIeCcauMFm"
      },
      "execution_count": null,
      "outputs": []
    },
    {
      "cell_type": "markdown",
      "source": [
        "2) Створіть двовимірний масив (матрицю) розміром 4x4, заповніть його одиницями та виведіть його значення."
      ],
      "metadata": {
        "id": "e0V0K56lty14"
      }
    },
    {
      "cell_type": "code",
      "source": [],
      "metadata": {
        "id": "mbSFogGYvPev"
      },
      "execution_count": null,
      "outputs": []
    },
    {
      "cell_type": "markdown",
      "source": [
        "3) Створіть масив розміром 5x5, заповніть його випадковими дійсними числами в діапазоні від -1 до 1 та виведіть його значення."
      ],
      "metadata": {
        "id": "oZ_hzFJAvI7K"
      }
    },
    {
      "cell_type": "code",
      "source": [],
      "metadata": {
        "id": "d-U9CUvVvlTm"
      },
      "execution_count": null,
      "outputs": []
    },
    {
      "cell_type": "markdown",
      "source": [
        "4) Створіть масив розміром 3x3, заповніть його випадковими дійсними числами в діапазоні від 0 до 1 та виведіть його значення."
      ],
      "metadata": {
        "id": "kzJzdsUGvlnk"
      }
    },
    {
      "cell_type": "code",
      "source": [],
      "metadata": {
        "id": "lZiS9V_0vzRM"
      },
      "execution_count": null,
      "outputs": []
    },
    {
      "cell_type": "markdown",
      "source": [
        "5) Створіть два одновимірних масиви розміром 6, заповніть їх випадковими цілими числами в діапазоні від 1 до 20 та виконайте на них поелементні операції додавання, віднімання та множення."
      ],
      "metadata": {
        "id": "78ffPX3Vvzzo"
      }
    },
    {
      "cell_type": "code",
      "source": [],
      "metadata": {
        "id": "HNoTCQxkwnFX"
      },
      "execution_count": null,
      "outputs": []
    },
    {
      "cell_type": "markdown",
      "source": [
        "6) Створіть дві матриці розміром 3x2 та 2x4, заповніть їх випадковими цілими числами в діапазоні від 1 до 5 та перемножте їх між собою."
      ],
      "metadata": {
        "id": "FfGiAGDownRk"
      }
    },
    {
      "cell_type": "code",
      "source": [],
      "metadata": {
        "id": "39joAKNRxDNX"
      },
      "execution_count": null,
      "outputs": []
    },
    {
      "cell_type": "markdown",
      "source": [
        "7) Створіть матрицю розміром 3x3, заповніть її випадковими дійсними числами в діапазоні від 0 до 1 та транспонуйте її."
      ],
      "metadata": {
        "id": "Erho8zVexDX5"
      }
    },
    {
      "cell_type": "code",
      "source": [],
      "metadata": {
        "id": "Cq3hQYyGxMav"
      },
      "execution_count": null,
      "outputs": []
    },
    {
      "cell_type": "markdown",
      "source": [
        "8) Створіть дві матриці розміром 3x3, заповніть їх випадковими цілими числами в діапазоні від 1 до 10 та знайдіть їхню різницю."
      ],
      "metadata": {
        "id": "Yo35zHU0xMkb"
      }
    },
    {
      "cell_type": "code",
      "source": [],
      "metadata": {
        "id": "nROKYOtSxZvh"
      },
      "execution_count": null,
      "outputs": []
    },
    {
      "cell_type": "markdown",
      "source": [
        "9) Створіть дві матриці розміром 3x3, заповніть їх випадковими цілими числами в діапазоні від -5 до 5 та знайдіть їх добуток."
      ],
      "metadata": {
        "id": "kEs7IUIOxZ-C"
      }
    },
    {
      "cell_type": "code",
      "source": [],
      "metadata": {
        "id": "pnUj6Svmxciq"
      },
      "execution_count": null,
      "outputs": []
    },
    {
      "cell_type": "markdown",
      "source": [
        "10) Створіть матрицю розміром 3x3, заповніть її випадковими дійсними числами в діапазоні від -1 до 1 та знайдіть вектор-стовпчик, що містить суму елементів кожного рядка матриці."
      ],
      "metadata": {
        "id": "-_HxDET3xcrx"
      }
    },
    {
      "cell_type": "code",
      "source": [],
      "metadata": {
        "id": "lzmztVK0xjOF"
      },
      "execution_count": null,
      "outputs": []
    }
  ]
}